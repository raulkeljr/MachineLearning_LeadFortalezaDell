{
 "cells": [
  {
   "cell_type": "markdown",
   "metadata": {},
   "source": [
    "<img src='tensor.png'>"
   ]
  },
  {
   "cell_type": "markdown",
   "metadata": {},
   "source": [
    "<img src='parcs.png'>"
   ]
  },
  {
   "cell_type": "code",
   "execution_count": 8,
   "metadata": {
    "colab": {},
    "colab_type": "code",
    "id": "_c6kGgLq6B6R"
   },
   "outputs": [],
   "source": [
    "import tensorflow as tf\n",
    "from tensorflow import keras\n",
    "import numpy as np"
   ]
  },
  {
   "cell_type": "code",
   "execution_count": 9,
   "metadata": {
    "colab": {},
    "colab_type": "code",
    "id": "5ksvsRB16B6c"
   },
   "outputs": [
    {
     "name": "stdout",
     "output_type": "stream",
     "text": [
      "Downloading data from https://storage.googleapis.com/tensorflow/tf-keras-datasets/train-labels-idx1-ubyte.gz\n",
      "32768/29515 [=================================] - 0s 0us/step\n",
      "Downloading data from https://storage.googleapis.com/tensorflow/tf-keras-datasets/train-images-idx3-ubyte.gz\n",
      "26427392/26421880 [==============================] - 2s 0us/step\n",
      "Downloading data from https://storage.googleapis.com/tensorflow/tf-keras-datasets/t10k-labels-idx1-ubyte.gz\n",
      "8192/5148 [===============================================] - 0s 0us/step\n",
      "Downloading data from https://storage.googleapis.com/tensorflow/tf-keras-datasets/t10k-images-idx3-ubyte.gz\n",
      "4423680/4422102 [==============================] - 0s 0us/step\n"
     ]
    }
   ],
   "source": [
    "fashion_mnist = keras.datasets.fashion_mnist\n",
    "\n",
    "(train_images, train_labels), (test_images, test_labels) = fashion_mnist.load_data()"
   ]
  },
  {
   "cell_type": "code",
   "execution_count": 10,
   "metadata": {
    "colab": {
     "base_uri": "https://localhost:8080/",
     "height": 34
    },
    "colab_type": "code",
    "executionInfo": {
     "elapsed": 379,
     "status": "ok",
     "timestamp": 1562696807347,
     "user": {
      "displayName": "Lucas G. Moura Leite",
      "photoUrl": "https://lh6.googleusercontent.com/-OzK-WjeoQAc/AAAAAAAAAAI/AAAAAAAAAGs/reQ3J8zZhu0/s64/photo.jpg",
      "userId": "15064829072844083005"
     },
     "user_tz": 180
    },
    "id": "aevxZgo26B6j",
    "outputId": "adb2961d-9fd2-4b2c-ff98-5b07f8677727"
   },
   "outputs": [
    {
     "data": {
      "text/plain": [
       "(60000, 28, 28)"
      ]
     },
     "execution_count": 10,
     "metadata": {},
     "output_type": "execute_result"
    }
   ],
   "source": [
    "train_images.shape"
   ]
  },
  {
   "cell_type": "code",
   "execution_count": 11,
   "metadata": {
    "colab": {
     "base_uri": "https://localhost:8080/",
     "height": 34
    },
    "colab_type": "code",
    "executionInfo": {
     "elapsed": 498,
     "status": "ok",
     "timestamp": 1562696808595,
     "user": {
      "displayName": "Lucas G. Moura Leite",
      "photoUrl": "https://lh6.googleusercontent.com/-OzK-WjeoQAc/AAAAAAAAAAI/AAAAAAAAAGs/reQ3J8zZhu0/s64/photo.jpg",
      "userId": "15064829072844083005"
     },
     "user_tz": 180
    },
    "id": "84Cf91vr6B6n",
    "outputId": "376e9882-7881-4c35-8e6a-8cc89cba2495"
   },
   "outputs": [
    {
     "data": {
      "text/plain": [
       "60000"
      ]
     },
     "execution_count": 11,
     "metadata": {},
     "output_type": "execute_result"
    }
   ],
   "source": [
    "len(train_labels)"
   ]
  },
  {
   "cell_type": "code",
   "execution_count": 12,
   "metadata": {
    "colab": {
     "base_uri": "https://localhost:8080/",
     "height": 34
    },
    "colab_type": "code",
    "executionInfo": {
     "elapsed": 526,
     "status": "ok",
     "timestamp": 1562696854642,
     "user": {
      "displayName": "Lucas G. Moura Leite",
      "photoUrl": "https://lh6.googleusercontent.com/-OzK-WjeoQAc/AAAAAAAAAAI/AAAAAAAAAGs/reQ3J8zZhu0/s64/photo.jpg",
      "userId": "15064829072844083005"
     },
     "user_tz": 180
    },
    "id": "bQI68dl56B6r",
    "outputId": "1c039fbd-95b2-4af0-9d46-bf465acc8b6b"
   },
   "outputs": [
    {
     "data": {
      "text/plain": [
       "array([0, 1, 2, 3, 4, 5, 6, 7, 8, 9], dtype=uint8)"
      ]
     },
     "execution_count": 12,
     "metadata": {},
     "output_type": "execute_result"
    }
   ],
   "source": [
    "np.unique(train_labels)"
   ]
  },
  {
   "cell_type": "code",
   "execution_count": 13,
   "metadata": {
    "colab": {
     "base_uri": "https://localhost:8080/",
     "height": 34
    },
    "colab_type": "code",
    "executionInfo": {
     "elapsed": 520,
     "status": "ok",
     "timestamp": 1562696882292,
     "user": {
      "displayName": "Lucas G. Moura Leite",
      "photoUrl": "https://lh6.googleusercontent.com/-OzK-WjeoQAc/AAAAAAAAAAI/AAAAAAAAAGs/reQ3J8zZhu0/s64/photo.jpg",
      "userId": "15064829072844083005"
     },
     "user_tz": 180
    },
    "id": "bxPD-Au-6B6v",
    "outputId": "a3fb40a4-12b9-4972-9805-7add74f94b93"
   },
   "outputs": [
    {
     "data": {
      "text/plain": [
       "(10000, 28, 28)"
      ]
     },
     "execution_count": 13,
     "metadata": {},
     "output_type": "execute_result"
    }
   ],
   "source": [
    "test_images.shape"
   ]
  },
  {
   "cell_type": "code",
   "execution_count": 14,
   "metadata": {
    "colab": {
     "base_uri": "https://localhost:8080/",
     "height": 34
    },
    "colab_type": "code",
    "executionInfo": {
     "elapsed": 551,
     "status": "ok",
     "timestamp": 1562696883484,
     "user": {
      "displayName": "Lucas G. Moura Leite",
      "photoUrl": "https://lh6.googleusercontent.com/-OzK-WjeoQAc/AAAAAAAAAAI/AAAAAAAAAGs/reQ3J8zZhu0/s64/photo.jpg",
      "userId": "15064829072844083005"
     },
     "user_tz": 180
    },
    "id": "b42JxOQn6B60",
    "outputId": "f3839c86-ed56-4927-809e-3346091f2698"
   },
   "outputs": [
    {
     "data": {
      "text/plain": [
       "10000"
      ]
     },
     "execution_count": 14,
     "metadata": {},
     "output_type": "execute_result"
    }
   ],
   "source": [
    "len(test_labels)"
   ]
  },
  {
   "cell_type": "code",
   "execution_count": 15,
   "metadata": {
    "colab": {
     "base_uri": "https://localhost:8080/",
     "height": 34
    },
    "colab_type": "code",
    "executionInfo": {
     "elapsed": 511,
     "status": "ok",
     "timestamp": 1562696884889,
     "user": {
      "displayName": "Lucas G. Moura Leite",
      "photoUrl": "https://lh6.googleusercontent.com/-OzK-WjeoQAc/AAAAAAAAAAI/AAAAAAAAAGs/reQ3J8zZhu0/s64/photo.jpg",
      "userId": "15064829072844083005"
     },
     "user_tz": 180
    },
    "id": "9JZ0l1ph6B64",
    "outputId": "de142331-5222-4189-9bfe-aa8d74239526"
   },
   "outputs": [
    {
     "data": {
      "text/plain": [
       "array([9, 2, 1, ..., 8, 1, 5], dtype=uint8)"
      ]
     },
     "execution_count": 15,
     "metadata": {},
     "output_type": "execute_result"
    }
   ],
   "source": [
    "test_labels"
   ]
  },
  {
   "cell_type": "code",
   "execution_count": 16,
   "metadata": {
    "colab": {},
    "colab_type": "code",
    "id": "L3SKeNvS6B7D"
   },
   "outputs": [],
   "source": [
    "train_images = train_images / 255.0\n",
    "\n",
    "test_images = test_images / 255.0"
   ]
  },
  {
   "cell_type": "code",
   "execution_count": 36,
   "metadata": {
    "colab": {
     "base_uri": "https://localhost:8080/",
     "height": 255
    },
    "colab_type": "code",
    "executionInfo": {
     "elapsed": 501,
     "status": "ok",
     "timestamp": 1562697233662,
     "user": {
      "displayName": "Lucas G. Moura Leite",
      "photoUrl": "https://lh6.googleusercontent.com/-OzK-WjeoQAc/AAAAAAAAAAI/AAAAAAAAAGs/reQ3J8zZhu0/s64/photo.jpg",
      "userId": "15064829072844083005"
     },
     "user_tz": 180
    },
    "id": "FZ21TQ4O6B7J",
    "outputId": "d8c3e208-ea76-4f52-a830-3ee4013dfd80"
   },
   "outputs": [
    {
     "name": "stdout",
     "output_type": "stream",
     "text": [
      "Model: \"sequential_2\"\n",
      "_________________________________________________________________\n",
      "Layer (type)                 Output Shape              Param #   \n",
      "=================================================================\n",
      "flatten_2 (Flatten)          (None, 784)               0         \n",
      "_________________________________________________________________\n",
      "dense_4 (Dense)              (None, 128)               100480    \n",
      "_________________________________________________________________\n",
      "dense_5 (Dense)              (None, 50)                6450      \n",
      "_________________________________________________________________\n",
      "dense_6 (Dense)              (None, 10)                510       \n",
      "=================================================================\n",
      "Total params: 107,440\n",
      "Trainable params: 107,440\n",
      "Non-trainable params: 0\n",
      "_________________________________________________________________\n"
     ]
    }
   ],
   "source": [
    "model = keras.Sequential([\n",
    "    keras.layers.Flatten(input_shape=(28, 28)),\n",
    "    keras.layers.Dense(128, activation=tf.nn.relu),\n",
    "    keras.layers.Dense(50, activation=tf.nn.relu),\n",
    "    keras.layers.Dense(10, activation=tf.nn.softmax)\n",
    "])\n",
    "model.summary()"
   ]
  },
  {
   "cell_type": "code",
   "execution_count": 37,
   "metadata": {
    "colab": {},
    "colab_type": "code",
    "id": "2YLI-l8B6B7N"
   },
   "outputs": [],
   "source": [
    "model.compile(optimizer='adam', \n",
    "              loss='sparse_categorical_crossentropy',\n",
    "              metrics=['accuracy'])"
   ]
  },
  {
   "cell_type": "code",
   "execution_count": 38,
   "metadata": {
    "colab": {
     "base_uri": "https://localhost:8080/",
     "height": 204
    },
    "colab_type": "code",
    "executionInfo": {
     "elapsed": 21348,
     "status": "ok",
     "timestamp": 1562697328676,
     "user": {
      "displayName": "Lucas G. Moura Leite",
      "photoUrl": "https://lh6.googleusercontent.com/-OzK-WjeoQAc/AAAAAAAAAAI/AAAAAAAAAGs/reQ3J8zZhu0/s64/photo.jpg",
      "userId": "15064829072844083005"
     },
     "user_tz": 180
    },
    "id": "cBGct1Ij6B7R",
    "outputId": "08170d24-fadf-4bba-af9a-df75538e1aa7"
   },
   "outputs": [
    {
     "name": "stdout",
     "output_type": "stream",
     "text": [
      "Epoch 1/5\n",
      "1875/1875 [==============================] - 3s 1ms/step - loss: 0.6680 - accuracy: 0.7705\n",
      "Epoch 2/5\n",
      "1875/1875 [==============================] - 2s 1ms/step - loss: 0.3824 - accuracy: 0.8582\n",
      "Epoch 3/5\n",
      "1875/1875 [==============================] - 2s 1ms/step - loss: 0.3394 - accuracy: 0.8756\n",
      "Epoch 4/5\n",
      "1875/1875 [==============================] - 2s 1ms/step - loss: 0.3094 - accuracy: 0.8856\n",
      "Epoch 5/5\n",
      "1875/1875 [==============================] - 2s 1ms/step - loss: 0.2899 - accuracy: 0.8935\n"
     ]
    },
    {
     "data": {
      "text/plain": [
       "<tensorflow.python.keras.callbacks.History at 0x23d0576ea00>"
      ]
     },
     "execution_count": 38,
     "metadata": {},
     "output_type": "execute_result"
    }
   ],
   "source": [
    "model.fit(train_images, train_labels, epochs=5)"
   ]
  },
  {
   "cell_type": "code",
   "execution_count": 39,
   "metadata": {
    "colab": {
     "base_uri": "https://localhost:8080/",
     "height": 51
    },
    "colab_type": "code",
    "executionInfo": {
     "elapsed": 772,
     "status": "ok",
     "timestamp": 1562697751534,
     "user": {
      "displayName": "Lucas G. Moura Leite",
      "photoUrl": "https://lh6.googleusercontent.com/-OzK-WjeoQAc/AAAAAAAAAAI/AAAAAAAAAGs/reQ3J8zZhu0/s64/photo.jpg",
      "userId": "15064829072844083005"
     },
     "user_tz": 180
    },
    "id": "m_XoCgZx6B7X",
    "outputId": "0ae4e053-8988-43fa-ca79-2f98da0b3621"
   },
   "outputs": [
    {
     "name": "stdout",
     "output_type": "stream",
     "text": [
      "313/313 [==============================] - 0s 787us/step - loss: 0.3321 - accuracy: 0.8808\n",
      "Test accuracy: 0.8808000087738037\n"
     ]
    }
   ],
   "source": [
    "test_loss, test_acc = model.evaluate(test_images, test_labels)\n",
    "\n",
    "print('Test accuracy:', test_acc)"
   ]
  },
  {
   "cell_type": "code",
   "execution_count": 40,
   "metadata": {
    "colab": {},
    "colab_type": "code",
    "id": "831mHUzm6B7e"
   },
   "outputs": [],
   "source": [
    "predictions = model.predict(test_images)"
   ]
  },
  {
   "cell_type": "code",
   "execution_count": 41,
   "metadata": {
    "colab": {
     "base_uri": "https://localhost:8080/",
     "height": 68
    },
    "colab_type": "code",
    "executionInfo": {
     "elapsed": 516,
     "status": "ok",
     "timestamp": 1562697769079,
     "user": {
      "displayName": "Lucas G. Moura Leite",
      "photoUrl": "https://lh6.googleusercontent.com/-OzK-WjeoQAc/AAAAAAAAAAI/AAAAAAAAAGs/reQ3J8zZhu0/s64/photo.jpg",
      "userId": "15064829072844083005"
     },
     "user_tz": 180
    },
    "id": "VKWN75Op6B7h",
    "outputId": "7bcf0d03-7c62-43d1-cfaf-79377d218568"
   },
   "outputs": [
    {
     "data": {
      "text/plain": [
       "array([4.0999184e-06, 4.3698965e-06, 1.9814020e-06, 3.8243916e-06,\n",
       "       2.4232455e-05, 1.2218258e-02, 4.0366263e-05, 1.8480865e-02,\n",
       "       4.3496124e-07, 9.6922159e-01], dtype=float32)"
      ]
     },
     "execution_count": 41,
     "metadata": {},
     "output_type": "execute_result"
    }
   ],
   "source": [
    "predictions[0]"
   ]
  },
  {
   "cell_type": "code",
   "execution_count": 42,
   "metadata": {
    "colab": {
     "base_uri": "https://localhost:8080/",
     "height": 34
    },
    "colab_type": "code",
    "executionInfo": {
     "elapsed": 516,
     "status": "ok",
     "timestamp": 1562697788028,
     "user": {
      "displayName": "Lucas G. Moura Leite",
      "photoUrl": "https://lh6.googleusercontent.com/-OzK-WjeoQAc/AAAAAAAAAAI/AAAAAAAAAGs/reQ3J8zZhu0/s64/photo.jpg",
      "userId": "15064829072844083005"
     },
     "user_tz": 180
    },
    "id": "kaStAfhm6B7o",
    "outputId": "f7d789c2-6ba2-425d-8fb6-c7bbaab48b3e"
   },
   "outputs": [
    {
     "data": {
      "text/plain": [
       "9"
      ]
     },
     "execution_count": 42,
     "metadata": {},
     "output_type": "execute_result"
    }
   ],
   "source": [
    "np.argmax(predictions[0])"
   ]
  },
  {
   "cell_type": "code",
   "execution_count": 43,
   "metadata": {
    "colab": {
     "base_uri": "https://localhost:8080/",
     "height": 34
    },
    "colab_type": "code",
    "executionInfo": {
     "elapsed": 519,
     "status": "ok",
     "timestamp": 1562697802718,
     "user": {
      "displayName": "Lucas G. Moura Leite",
      "photoUrl": "https://lh6.googleusercontent.com/-OzK-WjeoQAc/AAAAAAAAAAI/AAAAAAAAAGs/reQ3J8zZhu0/s64/photo.jpg",
      "userId": "15064829072844083005"
     },
     "user_tz": 180
    },
    "id": "_JNGtaUf6B7t",
    "outputId": "0a3e3cf6-f94f-4b4c-ec4d-3c086c8d3056"
   },
   "outputs": [
    {
     "data": {
      "text/plain": [
       "9"
      ]
     },
     "execution_count": 43,
     "metadata": {},
     "output_type": "execute_result"
    }
   ],
   "source": [
    "test_labels[0]"
   ]
  },
  {
   "cell_type": "code",
   "execution_count": 44,
   "metadata": {
    "colab": {},
    "colab_type": "code",
    "id": "9PRNwJjx6B8D"
   },
   "outputs": [
    {
     "name": "stdout",
     "output_type": "stream",
     "text": [
      "(28, 28)\n"
     ]
    }
   ],
   "source": [
    "img = test_images[0]\n",
    "\n",
    "print(img.shape)"
   ]
  },
  {
   "cell_type": "code",
   "execution_count": 45,
   "metadata": {
    "colab": {},
    "colab_type": "code",
    "id": "rgAEBBvr6B8H"
   },
   "outputs": [
    {
     "name": "stdout",
     "output_type": "stream",
     "text": [
      "(1, 28, 28)\n"
     ]
    }
   ],
   "source": [
    "img = (np.expand_dims(img,0))\n",
    "\n",
    "print(img.shape)"
   ]
  },
  {
   "cell_type": "code",
   "execution_count": 46,
   "metadata": {
    "colab": {},
    "colab_type": "code",
    "id": "kBd9iSvk6B8L"
   },
   "outputs": [
    {
     "name": "stdout",
     "output_type": "stream",
     "text": [
      "[[4.0999184e-06 4.3699047e-06 1.9814038e-06 3.8243952e-06 2.4232477e-05\n",
      "  1.2218253e-02 4.0366340e-05 1.8480884e-02 4.3496206e-07 9.6922159e-01]]\n"
     ]
    }
   ],
   "source": [
    "predictions_single = model.predict(img)\n",
    "\n",
    "print(predictions_single)"
   ]
  },
  {
   "cell_type": "code",
   "execution_count": 47,
   "metadata": {
    "colab": {},
    "colab_type": "code",
    "id": "buMojq1B6B8S"
   },
   "outputs": [
    {
     "data": {
      "text/plain": [
       "9"
      ]
     },
     "execution_count": 47,
     "metadata": {},
     "output_type": "execute_result"
    }
   ],
   "source": [
    "np.argmax(predictions_single[0])"
   ]
  },
  {
   "cell_type": "code",
   "execution_count": null,
   "metadata": {},
   "outputs": [],
   "source": []
  },
  {
   "cell_type": "code",
   "execution_count": null,
   "metadata": {},
   "outputs": [],
   "source": []
  }
 ],
 "metadata": {
  "colab": {
   "name": "1-Tensorflow.ipynb",
   "provenance": [],
   "version": "0.3.2"
  },
  "kernelspec": {
   "display_name": "Python 3",
   "language": "python",
   "name": "python3"
  },
  "language_info": {
   "codemirror_mode": {
    "name": "ipython",
    "version": 3
   },
   "file_extension": ".py",
   "mimetype": "text/x-python",
   "name": "python",
   "nbconvert_exporter": "python",
   "pygments_lexer": "ipython3",
   "version": "3.8.5"
  }
 },
 "nbformat": 4,
 "nbformat_minor": 2
}
